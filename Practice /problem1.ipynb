{
 "cells": [
  {
   "cell_type": "markdown",
   "id": "4276422c",
   "metadata": {},
   "source": [
    "<p style=\"font-family: helvetica, serif; font-size:14pt; font-style:Heavy\">\n",
    "   Python Practice Problem.\n",
    "</p>"
   ]
  },
  {
   "cell_type": "markdown",
   "id": "aa165477",
   "metadata": {},
   "source": [
    "<p style=\"font-family: helvetica, serif; font-size:11pt; font-style:bold\">\n",
    "   1. User will input (3 Ages). Find the oldest one.\n",
    "</p>"
   ]
  },
