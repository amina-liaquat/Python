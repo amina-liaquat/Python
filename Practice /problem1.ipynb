{
 "cells": [
  {
   "cell_type": "markdown",
   "id": "4276422c",
   "metadata": {},
   "source": [
    "<p style=\"font-family: helvetica, serif; font-size:14pt; font-style:Heavy\">\n",
    "  Python Practice Problems.\n",
    "</p>"
   ]
  },
  {
   "cell_type": "markdown",
   "id": "aa165477",
   "metadata": {},
   "source": [
    "<p style=\"font-family: helvetica, serif; font-size:11pt; font-style:bold\">\n",
    "   1. User will input (3 Ages). Find the oldest one.\n",
    "</p>"
   ]
  },
  {
   "cell_type": "code",
   "execution_count": null,
   "id": "085cb2ef",
   "metadata": {
    "ExecuteTime": {
     "end_time": "2022-06-20T15:15:18.295948Z",
     "start_time": "2022-06-20T15:15:13.458451Z"
    },
    "scrolled": true
   },
   "outputs": [],
   "source": [
    "l = [int(x) for x in input(\"Enter the Ages: \").split()]\n",
    "l.sort()\n",
    "print(f'The Oldest person has an age of {l[-1]} years.')"
   ]
  },
  {
   "cell_type": "markdown",
   "id": "99bab387",
   "metadata": {},
   "source": [
    "<p style=\"font-family: helvetica, serif; font-size:11pt; font-style:bold\">\n",
    "   2. Write a program that will convert celsius value to fahrenheit.\n",
    "</p>"
   ]
  },
  {
   "cell_type": "code",
   "execution_count": null,
   "id": "3a74acc5",
   "metadata": {
    "ExecuteTime": {
     "end_time": "2022-06-19T03:44:07.067550Z",
     "start_time": "2022-06-19T03:44:01.852592Z"
    }
   },
   "outputs": [],
   "source": [
    "deg_c = float(input('Enter the Temperature in Celsius Scale: '))\n",
    "deg_f = (((9/5)*deg_c) + 32)\n",
    "print(f\"The Temparature in Farenheit scale = {deg_f:.2f} F\")"
   ]
  },
  {
   "cell_type": "markdown",
   "id": "11748a72",
   "metadata": {},
   "source": [
    "<p style=\"font-family: helvetica, serif; font-size:11pt; font-style:bold\">\n",
    "   3. User will input (2 numbers). Write a program to swap the numbers.\n",
    "</p>"
   ]
  },
  {
   "cell_type": "code",
   "execution_count": null,
   "id": "cb7c1736",
   "metadata": {
    "ExecuteTime": {
     "end_time": "2022-06-19T04:03:09.408958Z",
     "start_time": "2022-06-19T04:03:07.070202Z"
    }
   },
   "outputs": [],
   "source": [
    "A,B = map(int, input('Enter the two numbers for swapping: ').split())\n",
    "#swapping number using a temporary variable.\n",
    "temp = B\n",
    "B = A\n",
    "A = temp\n",
    "print(f\"The numbers after swapping are: {A}, {B}\")"
   ]
  },
  {
   "cell_type": "markdown",
   "id": "3da20de8",
   "metadata": {},
   "source": [
    "<p style=\"font-family: helvetica, serif; font-size:11pt; font-style:bold\">\n",
    "   4. Write a program that will give you the sum of 3 digits\n",
    "</p>"
   ]
  },
  {
   "cell_type": "code",
   "execution_count": null,
   "id": "fc4652e4",
   "metadata": {
    "ExecuteTime": {
     "end_time": "2022-06-19T04:45:47.743592Z",
     "start_time": "2022-06-19T04:25:59.299200Z"
    },
    "code_folding": []
   },
   "outputs": [],
   "source": [
    "num = str(input(\"Enter the 3-digit Number: \"))\n",
    "sum_num = 0\n",
    "if (len(num) > 3 & len(num) < 2):\n",
    "    print(\"Please Re-enter a 3-digit number.\")\n",
    "else:\n",
    "    for i in range(len(num)):\n",
    "        sum_num += int(num[i])\n",
    "    print(f\"The sum of digits of the 3-digit number is : {sum_num}\")"
   ]
  },
  {
   "cell_type": "markdown",
   "id": "f7ca0df9",
   "metadata": {},
   "source": [
    "<p style=\"font-family: helvetica, serif; font-size:11pt; font-style:bold\">\n",
    "   5. Write a program that will reverse a four digit number. Also it checks whether the reverse is true.\n",
    "</p>"
   ]
  },
  {
   "cell_type": "code",
   "execution_count": null,
   "id": "2e4374b5",
   "metadata": {
    "ExecuteTime": {
     "end_time": "2022-06-19T07:59:55.285330Z",
     "start_time": "2022-06-19T07:59:55.275822Z"
    }
   },
   "outputs": [],
   "source": [
    "def palindromenum(n):\n",
    "    if ((len(n) > 4) & (len(n) < 3)):\n",
    "        return \"Enter a valid 4-digit number.\"\n",
    "    else:\n",
    "        rev_n = list(n)\n",
    "        rev_num = int(\"\".join(rev_n[::-1]))\n",
    "        if (rev_num == int(n)):\n",
    "            return f\"The reversed number is: {rev_num} The given number is a Palindrome.\"\n",
    "        else:\n",
    "            return f\"The reversed number is: {rev_num} The given number is not a Palindrome.\""
   ]
  },
  {
   "cell_type": "code",
   "execution_count": null,
   "id": "6db225b2",
   "metadata": {
    "ExecuteTime": {
     "end_time": "2022-06-19T08:00:01.191451Z",
     "start_time": "2022-06-19T07:59:58.495351Z"
    }
   },
   "outputs": [],
   "source": [
    "num_pal = str(input(\"Enter the 4-digit number: \"))\n",
    "\n",
    "palindromenum(num_pal)"
   ]
  },
  {
   "cell_type": "markdown",
   "id": "a28a8f12",
   "metadata": {
    "ExecuteTime": {
     "end_time": "2022-06-19T03:50:58.524764Z",
     "start_time": "2022-06-19T03:50:58.507783Z"
    }
   },
   "source": [
    "<p style=\"font-family: helvetica, serif; font-size:11pt; font-style:bold\">\n",
    "   6. Write a program that will tell whether the number entered by the user is odd or even.\n",
    "</p>"
   ]
  },
  {
   "cell_type": "code",
   "execution_count": null,
   "id": "ce2ddf76",
   "metadata": {
    "ExecuteTime": {
     "end_time": "2022-06-19T10:33:18.412312Z",
     "start_time": "2022-06-19T10:33:18.399826Z"
    }
   },
   "outputs": [],
   "source": [
    "def oddeven(k):\n",
    "    if (k%2 == 0):\n",
    "        return \"The given number is an Even number.\"\n",
    "    else:\n",
    "        return \"The given number is an Odd number.\""
   ]
  },
  {
   "cell_type": "code",
   "execution_count": null,
   "id": "091dcaef",
   "metadata": {
    "ExecuteTime": {
     "end_time": "2022-06-19T10:34:08.802529Z",
     "start_time": "2022-06-19T10:34:07.191249Z"
    }
   },
   "outputs": [],
   "source": [
    "num_odd_even = int(input(\"Enter the number: \"))\n",
    "oddeven(num_odd_even)"
   ]
  },
  {
   "cell_type": "markdown",
   "id": "2ffe35c8",
   "metadata": {},
   "source": [
    "<p style=\"font-family: helvetica, serif; font-size:11pt; font-style:bold\">\n",
    "   7. Write a program that will tell whether the given year is a leap year or not.\n",
    "</p>"
   ]
  },
  {
   "cell_type": "code",
   "execution_count": null,
   "id": "e31dd657",
   "metadata": {
    "ExecuteTime": {
     "end_time": "2022-06-20T15:14:19.843239Z",
     "start_time": "2022-06-20T15:14:19.837256Z"
    }
   },
   "outputs": [],
   "source": [
    "def leapyear(year):\n",
    "    if ((year%4) == 0):\n",
    "        if (year >= 100):\n",
    "            if (year%400==0):\n",
    "                return f\"{year} is a Leap year.\"\n",
    "            elif ((year%400!=0) & (year%100==0)):\n",
    "                return f\"{year} is not a Leap year.\"\n",
    "        else:\n",
    "            return f\"{year} is a Leap year.\"\n",
    "    else:\n",
    "        return f\"{year} is not a Leap year.\""
   ]
  },
  {
   "cell_type": "code",
   "execution_count": null,
   "id": "a4cad83d",
   "metadata": {
    "ExecuteTime": {
     "end_time": "2022-06-20T15:14:23.847169Z",
     "start_time": "2022-06-20T15:14:22.335065Z"
    }
   },
   "outputs": [],
   "source": [
    "leapyear(int(input(\"Enter the year: \")))"
   ]
  },
  {
   "cell_type": "markdown",
   "id": "e61bf940",
   "metadata": {},
   "source": [
    "<p style=\"font-family: helvetica, serif; font-size:11pt; font-style:bold\">\n",
    "   8. Write a program to find the euclidean distance between two coordinates.\n",
    "</p>"
   ]
  },
  {
   "cell_type": "code",
   "execution_count": null,
   "id": "da15f28e",
   "metadata": {
    "ExecuteTime": {
     "end_time": "2022-06-19T10:55:35.545955Z",
     "start_time": "2022-06-19T10:55:23.465891Z"
    }
   },
   "outputs": [],
   "source": [
    "z = int(input(\"Enter the number of Co-ordinate axes: \"))\n",
    "if (z==3):\n",
    "    x_1, y_1, z_1 = map(float, input(\"Enter the co-ordinates of Point-A: \").split())\n",
    "    x_2, y_2, z_2 = map(float, input(\"Enter the co-ordinates of Point-B: \").split())\n",
    "    euc_dist_3d = ((x_1 - x_2)**2 + (y_1 - y_2)**2 + (z_1 - z_2)**2)**0.5\n",
    "    print(f'The Euclerian distance in 3-D Coordinate system = {euc_dist_3d:.2f}')\n",
    "elif (z==2):\n",
    "    x_1, y_1= map(float, input(\"Enter the co-ordinates of Point-A: \").split())\n",
    "    x_2, y_2= map(float, input(\"Enter the co-ordinates of Point-B: \").split())\n",
    "    euc_dist_2d = ((x_1 - x_2)**2 + (y_1 - y_2)**2)**0.5\n",
    "    print(f'The Euclerian distance in 2-D Coordinate system = {euc_dist_2d:.2f}')\n",
    "\n",
    "elif (z==1):\n",
    "    x_1 = float(input(\"Enter the abscissa of Point-A: \"))\n",
    "    x_2 = float(input(\"Enter the abscissa of Point-B: \"))\n",
    "    euc_dist_1d = abs(x_1 - x_2)\n",
    "    print(f'The Euclerian distance in 2-D Coordinate system = {abs(euc_dist_1d):.2f}')"
   ]
  },
  {
   "cell_type": "markdown",
   "id": "e752d164",
   "metadata": {},
   "source": [
    "<p style=\"font-family: helvetica, serif; font-size:11pt; font-style:bold\">\n",
    "   9. Write a program that take a user input of three angles and will find out whether it can form a triangle or not.\n",
    "</p>"
   ]
  },
  {
   "cell_type": "code",
   "execution_count": null,
   "id": "48dbdac4",
   "metadata": {
    "ExecuteTime": {
     "end_time": "2022-06-19T11:49:30.262254Z",
     "start_time": "2022-06-19T11:49:22.833581Z"
    }
   },
   "outputs": [],
   "source": [
    "angle_1, angle_2, angle_3 = map(float, input(\"Enter the three angles in Degrees: \").split())\n",
    "if ((angle_1 == 0) | (angle_2 == 0) | (angle_3 == 0)):\n",
    "    print (\"Please enter a non-zero Angle.\")\n",
    "else:\n",
    "    if ((angle_1+ angle_2+ angle_3) == 180):\n",
    "        print(\"The given angles belong to a triangle.\")\n",
    "    else:\n",
    "        print(\"The given angles do not belong to a triangle.\")"
   ]
  },
  {
   "cell_type": "markdown",
   "id": "c1564b70",
   "metadata": {
    "ExecuteTime": {
     "end_time": "2022-06-19T11:50:32.160485Z",
     "start_time": "2022-06-19T11:50:32.147521Z"
    }
   },
   "source": [
    "<p style=\"font-family: helvetica, serif; font-size:11pt; font-style:bold\">\n",
    "   10. Write a program that will take user input of cost price and selling price and determines whether its a loss or a profit.\n",
    "</p>"
   ]
  },
  {
   "cell_type": "code",
   "execution_count": null,
   "id": "691a1000",
   "metadata": {
    "ExecuteTime": {
     "end_time": "2022-06-20T15:24:09.953111Z",
     "start_time": "2022-06-20T15:23:49.663612Z"
    }
   },
   "outputs": [],
   "source": [
    "cp = float(input(\"Enter the Cost Price: \"))\n",
    "sp = float(input(\"Enter the Selling Price: \"))\n",
    "if ((sp-cp) > 0):\n",
    "    print(f\"A Profit of {abs(sp-cp):.2f} was made.\")\n",
    "else:\n",
    "    print(f\"A Loss of {abs(sp-cp):.2f} was incurred.\")"
   ]
  },
  {
   "cell_type": "markdown",
   "id": "b175e59c",
   "metadata": {
    "ExecuteTime": {
     "end_time": "2022-06-19T11:51:41.679558Z",
     "start_time": "2022-06-19T11:51:41.664597Z"
    }
   },
   "source": [
    "<p style=\"font-family: helvetica, serif; font-size:11pt; font-style:bold\">\n",
    "   11. Write a program to find the simple interest when the value of principle,rate of interest and time period is given.\n",
    "</p>"
   ]
  },
  {
   "cell_type": "code",
   "execution_count": null,
   "id": "b0427698",
   "metadata": {
    "ExecuteTime": {
     "end_time": "2022-06-20T15:22:27.780836Z",
     "start_time": "2022-06-20T15:22:20.645273Z"
    }
   },
   "outputs": [],
   "source": [
    "p = float(input(\"Enter the Principle Amount: \"))\n",
    "r = float(input(\"Enter the rate of Interest: \"))\n",
    "t = float(input(\"Enter the time period in Years: \"))\n",
    "si = float(p*r*t*0.01)\n",
    "print(f\"The simple Interest for the given period of time = {si:.2f}\")"
   ]
  },
  {
   "cell_type": "markdown",
   "id": "60a28471",
   "metadata": {},
   "source": [
    "<p style=\"font-family: helvetica, serif; font-size:11pt; font-style:bold\">\n",
    "   12. Write a program to find the volume of the cylinder. Also find the cost when ,when the cost of 1litre milk is 40Rs.\n",
    "</p>"
   ]
  },
  {
   "cell_type": "code",
   "execution_count": null,
   "id": "0813660d",
   "metadata": {
    "ExecuteTime": {
     "end_time": "2022-06-20T09:25:26.140883Z",
     "start_time": "2022-06-20T09:25:20.400598Z"
    }
   },
   "outputs": [],
   "source": [
    "import math\n",
    "r = float(input(\"Enter the radius of the cylinder (in meters.)): \"))\n",
    "h = float(input(\"Enter the Height of the cylinder (in meters.): \"))\n",
    "volume_cylinder = (math.pi)*r*r*h\n",
    "print(f\"Volume of the Cylinder: {volume_cylinder:.2f} m^3 = {(volume_cylinder/1000):.2f} Litres\")\n",
    "milk_cost = volume_cylinder*0.001*40\n",
    "print(f\"The cost of Milk for {(volume_cylinder/1000):.2f} Litres Milk = {milk_cost:.2f} Rs.\")"
   ]
  },
  {
   "cell_type": "markdown",
   "id": "49f46a4a",
   "metadata": {},
   "source": [
    "<p style=\"font-family: helvetica, serif; font-size:11pt; font-style:bold\">\n",
    "   13. Write  a program that will tell whether the given number is divisible by 3 & 6.\n",
    "</p>"
   ]
  },
  {
   "cell_type": "code",
   "execution_count": null,
   "id": "a3423749",
   "metadata": {
    "ExecuteTime": {
     "end_time": "2022-06-20T09:27:47.865581Z",
     "start_time": "2022-06-20T09:27:47.844626Z"
    }
   },
   "outputs": [],
   "source": [
    "def divby3_6(j):\n",
    "    if (j%3 == 0):\n",
    "        if (j%2 == 0):\n",
    "            return \"The number is divisible by 6.\"\n",
    "        else:\n",
    "            return \"The nummber is only divisible by 3 and not by 6.\""
   ]
  },
  {
   "cell_type": "code",
   "execution_count": null,
   "id": "9c9bbf3e",
   "metadata": {
    "ExecuteTime": {
     "end_time": "2022-06-20T09:28:59.659349Z",
     "start_time": "2022-06-20T09:28:57.139572Z"
    }
   },
   "outputs": [],
   "source": [
    "divby3_6(int(input(\"Enter the number to check for divisibility by 3 (or) 6: \")))"
   ]
  },
  {
   "cell_type": "code",
   "execution_count": null,
   "id": "3b116bb8",
   "metadata": {
    "ExecuteTime": {
     "end_time": "2022-06-20T09:29:23.114649Z",
     "start_time": "2022-06-20T09:29:14.485499Z"
    }
   },
   "outputs": [],
   "source": [
    "divby3_6(int(input(\"Enter the number to check for divisibility by 3 (or) 6: \")))"
   ]
  },
  {
   "cell_type": "markdown",
   "id": "cb223a84",
   "metadata": {},
   "source": [
    "<p style=\"font-family: helvetica, serif; font-size:11pt; font-style:bold\">\n",
    "   14. Write a program that will determine weather when the value of temperature and humidity is provided by the user.\n",
    "    \n",
    "                    TEMPERATURE(C)      HUMIDITY(%)          WEATHER\n",
    "                  ------------------------------------------------------\n",
    "                       >= 30              >=90            Hot and Humid\n",
    "                       >= 30              <90                 Hot\n",
    "                        <30               >=90           Cool and Humid\n",
    "                        <30               <90                 Cool\n",
    "\n",
    "</p>"
   ]
  },
  {
   "cell_type": "code",
   "execution_count": null,
   "id": "33569e84",
   "metadata": {
    "ExecuteTime": {
     "end_time": "2022-06-20T15:21:23.229164Z",
     "start_time": "2022-06-20T15:21:23.217196Z"
    }
   },
   "outputs": [],
   "source": [
    "def weathercond(t, h):\n",
    "    if ((h<=100) & (h>=0)):\n",
    "        if (t>=30):\n",
    "            if (h>=90):\n",
    "                return \"The Current weather condition is: \" \"Hot and Humid\"\n",
    "            elif (h<90):\n",
    "                return \"The Current weather condition is: \" \"Hot\"\n",
    "        elif (t<30):\n",
    "            if (h>=90):\n",
    "                return \"The Current weather condition is: \" \"Cool and Humid\"\n",
    "            elif (h<90):\n",
    "                return \"The Current weather condition is: \" \"Cool\"\n",
    "    else:\n",
    "        return \"Enter a valid % of humidity between 0-100%.\""
   ]
  },
  {
   "cell_type": "code",
   "execution_count": null,
   "id": "fd1c0e81",
   "metadata": {
    "ExecuteTime": {
     "end_time": "2022-06-20T15:21:30.716963Z",
     "start_time": "2022-06-20T15:21:24.313398Z"
    }
   },
   "outputs": [],
   "source": [
    "Temp = float(input(\"Enter the Temperature in Deg C.: \"))\n",
    "Humidity = float(input(\"Enter the % of Humidity: \"))\n",
    "weathercond(Temp, Humidity)"
   ]
  },
  {
   "cell_type": "markdown",
   "id": "1783828a",
   "metadata": {},
   "source": [
    "<p style=\"font-family: helvetica, serif; font-size:11pt; font-style:bold\">\n",
    "   15. Write a program that will take three digits from the user and add the square of each digit.\n",
    "</p>"
   ]
  },
  {
   "cell_type": "code",
   "execution_count": null,
   "id": "dc0b755d",
   "metadata": {
    "ExecuteTime": {
     "end_time": "2022-06-20T14:48:55.696504Z",
     "start_time": "2022-06-20T14:48:53.939060Z"
    }
   },
   "outputs": [],
   "source": [
    "num3 = str(input(\"Enter the 3-digit Number: \"))\n",
    "sum_num3 = 0\n",
    "for i in range(len(num3)):\n",
    "        sum_num3 += (int(num3[i])**2)\n",
    "print(f\"The sum of square of each digit: {sum_num3}\")"
   ]
  },
  {
   "cell_type": "markdown",
   "id": "02382357",
   "metadata": {},
   "source": [
    "<p style=\"font-family: helvetica, serif; font-size:11pt; font-style:bold\">\n",
    "   16. Write a program that will check whether the number is armstrong number or not.\n",
    "</p>"
   ]
  },
  {
   "cell_type": "code",
   "execution_count": null,
   "id": "78b5d9ac",
   "metadata": {
    "ExecuteTime": {
     "end_time": "2022-06-21T06:04:02.259814Z",
     "start_time": "2022-06-21T06:04:02.247812Z"
    }
   },
   "outputs": [],
   "source": [
    "# Armstrong number is a number that is equal to the sum of cubes of its digits.\n",
    "# it is a Narcissist number.\n",
    "def armstrong(arm):\n",
    "    arm_list = list(arm)\n",
    "    if (int(arm) == sum([((int(x))**3) for x in arm_list])):\n",
    "        return f\"{int(arm)} is an Armstrong number.\"\n",
    "    else:\n",
    "        return f\"{int(arm)} is not an Armstrong number.\""
   ]
  },
  {
   "cell_type": "code",
   "execution_count": null,
   "id": "140d705f",
   "metadata": {
    "ExecuteTime": {
     "end_time": "2022-06-21T06:07:46.569650Z",
     "start_time": "2022-06-21T06:07:44.843542Z"
    }
   },
   "outputs": [],
   "source": [
    "armstrong(str(input(\"Enter any number: \")))"
   ]
  },
  {
   "cell_type": "markdown",
   "id": "20d96ab1",
   "metadata": {},
   "source": [
    "<p style=\"font-family: helvetica, serif; font-size:11pt; font-style:bold\">\n",
    "   17. Write a program that will take user input of (4 digits number) and check whether the number is narcissist number or not.\n",
    "</p>"
   ]
  },
  {
   "cell_type": "code",
   "execution_count": null,
   "id": "b5d1ec15",
   "metadata": {
    "ExecuteTime": {
     "end_time": "2022-06-21T06:06:34.108796Z",
     "start_time": "2022-06-21T06:06:34.090814Z"
    }
   },
   "outputs": [],
   "source": [
    "# An n-digit number that is the sum of the nth powers of its digits is called an n-narcissistic number.\n",
    "def narcissit_num(nar):\n",
    "    nar_list = list(nar)\n",
    "    p = len(nar_list)\n",
    "    if (int(nar) == sum([((int(y))**p) for y in nar_list])):\n",
    "        return f\"{int(nar)} is a narcissist number.\"\n",
    "    else:\n",
    "        return f\"{int(nar)} is not a narcissist number\""
   ]
  },
  {
   "cell_type": "code",
   "execution_count": null,
   "id": "28bf9c95",
   "metadata": {
    "ExecuteTime": {
     "end_time": "2022-06-21T06:07:52.305366Z",
     "start_time": "2022-06-21T06:07:49.928022Z"
    }
   },
   "outputs": [],
   "source": [
    "narcissit_num(str(input(\"Enter any number: \")))"
   ]
  },
  {
   "cell_type": "code",
   "execution_count": null,
   "id": "6367f449",
   "metadata": {
    "ExecuteTime": {
     "end_time": "2022-06-21T06:08:08.385528Z",
     "start_time": "2022-06-21T06:08:04.635747Z"
    }
   },
   "outputs": [],
   "source": [
    "narcissit_num(str(input(\"Enter any number: \")))"
   ]
  },
  {
   "cell_type": "markdown",
   "id": "c18ff578",
   "metadata": {
    "ExecuteTime": {
     "end_time": "2022-06-19T12:02:03.174870Z",
     "start_time": "2022-06-19T12:02:03.160908Z"
    }
   },
   "source": [
    "<p style=\"font-family: helvetica, serif; font-size:11pt; font-style:bold\">\n",
    "   18. Write a program that will give you the in hand salary after deduction of HRA(10%),DA(5%),PF(3%), \n",
    "and tax: \n",
    "    \n",
    "    (if salary is between 5-10 lakh – 10%), \n",
    "    ((10lakh+)-20lakh – 20%), \n",
    "    (>20lakh – 30%)\n",
    "    \n",
    "    Formatting the output:\n",
    "    Lakhs - Lacs\n",
    "    Thousands - k\n",
    "    Crores - Cr\n",
    "</p>"
   ]
  },
  {
   "cell_type": "code",
   "execution_count": null,
   "id": "2c5c593a",
   "metadata": {
    "ExecuteTime": {
     "end_time": "2022-06-21T09:42:28.900416Z",
     "start_time": "2022-06-21T09:42:14.285767Z"
    }
   },
   "outputs": [],
   "source": [
    "salary = float(input(\"Enter your annual Salary: \"))\n",
    "if ((salary>=500000) & (salary<1000000)):\n",
    "    tax = salary*0.10\n",
    "    salary = (salary - tax)\n",
    "elif ((salary>=1000000) & (salary<2000000)):\n",
    "    tax = salary*0.20\n",
    "    salary = (salary - tax)\n",
    "elif (salary>=2000000):\n",
    "    tax = salary*0.30\n",
    "    salary = (salary - tax)\n",
    "\n",
    "hra = salary*0.1\n",
    "da = salary*0.05 \n",
    "pf = salary*0.03\n",
    "salary_total = (salary - hra - da - pf)\n",
    "\n",
    "if ((salary_total>=1000) & (salary_total<100000)):\n",
    "    print(f\"Your Annual In-Hand Salary = {salary_total:.2f} k\")\n",
    "elif ((salary_total>=100000) & (salary_total<10000000)):\n",
    "    print(f\"Your Annual In-Hand Salary = {salary_total:.2f} Lacs\")\n",
    "elif ((salary_total>=10000000) & (salary_total<1000000000)):\n",
    "    print(f\"Your Annual In-Hand Salary = {salary_total:.2f} Cr\")\n",
    "else:\n",
    "    print(f\"Your Annual In-Hand Salary = {salary_total:.2f}\")\n",
    "    "
   ]
  },
  {
   "cell_type": "markdown",
   "id": "a989195b",
   "metadata": {},
   "source": [
    "<p style=\"font-family: helvetica, serif; font-size:11pt; font-style:bold\">\n",
    "19. Write a menu driven program:\n",
    "    \n",
    "    1. cm to ft  \n",
    "    2. km to miles  \n",
    "    3. usd to inr  \n",
    "    4. exit\n",
    "</p>"
   ]
  },
  {
   "cell_type": "code",
   "execution_count": null,
   "id": "3ac5821c",
   "metadata": {
    "ExecuteTime": {
     "end_time": "2022-06-21T11:08:12.702197Z",
     "start_time": "2022-06-21T11:08:04.099642Z"
    }
   },
   "outputs": [],
   "source": [
    "while True:\n",
    "    print(\"MENU:\")\n",
    "    print(\"1. To convert: cm to ft.\")\n",
    "    print(\"2. To convert: Km to miles.\")\n",
    "    print(\"3. To convert: USD$ to INR₹\")\n",
    "    print(\"4. Exit.\\n\")\n",
    "    option = int(input(\"\\nEnter your choice: \"))\n",
    "    \n",
    "    if (option == 1):\n",
    "        l_cm = float(input(\"\\nEnter the Length in cm: \"))\n",
    "        print(f\"{l_cm} cm = {(0.0328084*l_cm):.4f}ft.\\n\")\n",
    "    elif (option == 2):\n",
    "        d_km = float(input(\"\\nEnter the distance in Kilometers: \"))\n",
    "        print(f\"{d_km} Km = {(0.621371*d_km):.3f} miles.\\n\")\n",
    "    elif (option == 3):\n",
    "        usd = float(input(\"\\nEnter the value in USD$: \"))\n",
    "        print(f\"{usd} USD$ = {(78.08*usd):.2f} INR₹\\n\")\n",
    "    elif (option == 4):\n",
    "        break\n",
    "    else:\n",
    "        print(\"Please enter a valid Input!\\n\")"
   ]
  },
  {
   "cell_type": "markdown",
   "id": "aadf17d7",
   "metadata": {},
   "source": [
    "<p style=\"font-family: helvetica, serif; font-size:11pt; font-style:bold\">\n",
    "20. Write a program that will tell the number of dogs and chicken are there when the user will provide the value of total heads and legs.\n",
    "</p>"
   ]
  },
  {
   "cell_type": "code",
   "execution_count": null,
   "id": "8071ba2e",
   "metadata": {
    "ExecuteTime": {
     "end_time": "2022-06-21T11:32:16.426427Z",
     "start_time": "2022-06-21T11:32:14.347682Z"
    }
   },
   "outputs": [],
   "source": [
    "n = int(input(\"\\nEnter the total no. of Heads: \"))\n",
    "k = int(input(\"\\nEnter the total no. of Legs: \"))\n",
    "\n",
    "#misses few corner cases!!!\n",
    "if (k < n or (k&1)!=0):\n",
    "    print(\"Enter valid no. of Heads and Legs.!!!\")\n",
    "elif (n < k): \n",
    "    chicken = 2*n - (k/2)\n",
    "    dogs = n - chicken\n",
    "    if(chicken<0 or dogs>n):\n",
    "        print(\"Enter valid no. of Heads and Legs.!!!\")\n",
    "    print(f\"The total no. of Dogs = {int(dogs)}\")\n",
    "    print(f\"The total no. of Chickens = {int(chicken)}\")"
   ]
  }
 ],
 "metadata": {
  "kernelspec": {
   "display_name": "Python 3.10.2 64-bit",
   "language": "python",
   "name": "python3"
  },
  "language_info": {
   "codemirror_mode": {
    "name": "ipython",
    "version": 3
   },
   "file_extension": ".py",
   "mimetype": "text/x-python",
   "name": "python",
   "nbconvert_exporter": "python",
   "pygments_lexer": "ipython3",
   "version": "3.10.4"
  },
  "vscode": {
   "interpreter": {
    "hash": "26de051ba29f2982a8de78e945f0abaf191376122a1563185a90213a26c5da77"
   }
  }
 },
 "nbformat": 4,
 "nbformat_minor": 5
}
