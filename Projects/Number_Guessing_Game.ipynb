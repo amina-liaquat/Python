{
 "cells": [
  {
   "cell_type": "code",
   "execution_count": null,
   "id": "2ddfda12",
   "metadata": {},
   "outputs": [],
   "source": [
    "import random"
   ]
  },
  {
   "cell_type": "code",
   "execution_count": null,
   "id": "49bf222a",
   "metadata": {},
   "outputs": [],
   "source": [
    "print(\"🎯 Welcome to the Number Guessing Game!\")\n",
    "print(\"I'm thinking of a number between 1 and 100.\")\n",
    "print(\"Try to guess it in as few attempts as possible.\")"
   ]
  },
  {
   "cell_type": "code",
   "execution_count": null,
   "id": "ab006e92",
   "metadata": {},
   "outputs": [],
   "source": [
    "print(\"Choose a difficulty level:\")\n",
    "print(\"1. Easy (10 attempts)\")\n",
    "print(\"2. Medium (7 attempts)\")\n",
    "print(\"3. Hard (5 attempts)\")\n",
    "\n",
    "level = input(\"Enter 1, 2 or 3: \")\n",
    "\n",
    "if level == '1':\n",
    "    max_attempts = 10\n",
    "elif level == '2':\n",
    "    max_attempts = 7\n",
    "elif level == '3':\n",
    "    max_attempts = 5\n",
    "else:\n",
    "    max_attempts = 10\n",
    "    print(\"⚠️ Invalid choice. Defaulting to Easy mode.\")"
   ]
  },
  {
   "cell_type": "code",
   "execution_count": null,
   "id": "f56f589b",
   "metadata": {},
   "outputs": [],
   "source": [
    "secret_number = random.randint(1, 100)\n",
    "attempts = 0\n",
    "\n",
    "while attempts < max_attempts:\n",
    "    try:\n",
    "        guess = int(input(f\"Attempt {attempts+1}/{max_attempts} - Guess the number: \"))\n",
    "        attempts += 1\n",
    "\n",
    "        if guess < 1 or guess > 100:\n",
    "            print(\"🚫 Please enter a number between 1 and 100.\")\n",
    "        elif guess < secret_number:\n",
    "            print(\"📉 Too low!\")\n",
    "        elif guess > secret_number:\n",
    "            print(\"📈 Too high!\")\n",
    "        else:\n",
    "            print(f\"🎉 Correct! You guessed the number {secret_number} in {attempts} attempts.\")\n",
    "            break\n",
    "    except ValueError:\n",
    "        print(\"❌ Invalid input. Please enter a valid number.\")\n",
    "\n",
    "else:\n",
    "    print(f\"💥 You've used all {max_attempts} attempts! The number was {secret_number}.\")"
   ]
  }
 ],
 "metadata": {},
 "nbformat": 4,
 "nbformat_minor": 5
}
