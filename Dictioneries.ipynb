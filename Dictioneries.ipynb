{
 "cells": [
  {
   "cell_type": "code",
   "execution_count": 2,
   "metadata": {},
   "outputs": [
    {
     "name": "stdout",
     "output_type": "stream",
     "text": [
      "{'name': 'Amina', 'age': '23', 'Eligible': 'True'}\n",
      "Amina\n",
      "True\n",
      "dict_values(['Amina', '23', 'True'])\n",
      "dict_keys(['name', 'age', 'Eligible'])\n",
      "dict_items([('name', 'Amina'), ('age', '23'), ('Eligible', 'True')])\n"
     ]
    }
   ],
   "source": [
    "info={'name':'Amina','age':'23','Eligible':'True'}\n",
    "print(info)\n",
    "info={'name':'Amina','age':'23','Eligible':'True'}\n",
    "print(info['name'])\n",
    "print(info.get('Eligible'))\n",
    "   # Accessing multiple Values\n",
    "info={'name':'Amina','age':'23','Eligible':'True'}\n",
    "print(info.values())\n",
    "   # Accesing Keys\n",
    "info={'name':'Amina','age':'23','Eligible':'True'}\n",
    "print(info.keys())\n",
    "   # Accessing Key-Values Pairs\n",
    "info={'name':'Amina','age':'23','Eligible':'True'}\n",
    "print(info.items())\n",
    "\n"
   ]
  },
  {
   "cell_type": "code",
   "execution_count": 3,
   "metadata": {},
   "outputs": [
    {
     "name": "stdout",
     "output_type": "stream",
     "text": [
      "{123: 89, 567: 69}\n",
      "{'Name': 'Amina', 'Age': '23', 'eligible': 'True'}\n"
     ]
    }
   ],
   "source": [
    "ep1 = {122: 45, 123: 89, 567: 69, 670: 69}\n",
    "ep2 = {222: 67, 566: 90}\n",
    "\n",
    "# ep1.update(ep2)\n",
    "# ep1.clear()\n",
    "# ep1.pop(122)\n",
    "ep1.popitem()\n",
    "del ep1[122]\n",
    "print(ep1) \n",
    "         # Update()\n",
    "info={'Name':'Amina','Age':'23','eligible':'True'}\n",
    "print(info)\n",
    "# info.update({'Age':'24'})\n",
    "# info.update({'DOB':'2000'})\n",
    "# print(info)\n",
    "          # Removing item frrom dictionery\n",
    "          # Clear()\n",
    "# info.clear()\n",
    "# print(info)\n",
    "         # Pop()\n",
    "# info.pop('eligible')\n",
    "# print(info)\n",
    "         # popitems()\n",
    "# info.popitem()\n",
    "# print(info)\n",
    "         # del\n",
    "# del info['Age']\n",
    "# print(info)\n",
    "# del info\n",
    "# print(info)"
   ]
  }
 ],
 "metadata": {
  "kernelspec": {
   "display_name": "Python 3",
   "language": "python",
   "name": "python3"
  },
  "language_info": {
   "codemirror_mode": {
    "name": "ipython",
    "version": 3
   },
   "file_extension": ".py",
   "mimetype": "text/x-python",
   "name": "python",
   "nbconvert_exporter": "python",
   "pygments_lexer": "ipython3",
   "version": "3.12.3"
  }
 },
 "nbformat": 4,
 "nbformat_minor": 2
}
